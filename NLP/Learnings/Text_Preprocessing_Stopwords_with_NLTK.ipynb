{
  "nbformat": 4,
  "nbformat_minor": 0,
  "metadata": {
    "colab": {
      "provenance": []
    },
    "kernelspec": {
      "name": "python3",
      "display_name": "Python 3"
    },
    "language_info": {
      "name": "python"
    }
  },
  "cells": [
    {
      "cell_type": "code",
      "execution_count": 23,
      "metadata": {
        "id": "Dm9znf6r8V0o"
      },
      "outputs": [],
      "source": [
        "paragraph= '''\n",
        "Exploring consensual hardcode roleplay in intimate relationships can offer deep, positive impacts on connection, trust, and satisfaction. For couples open to exploring this form of expression,\n",
        "it can be a tool for breaking routine, enhancing passion, and building trust. The process involves setting boundaries and establishing clear communication, which naturally fosters an environment where partners feel safe to express even their most vulnerable fantasies.\n",
        "This openness can deepen intimacy, as both partners know they are on the same page about expectations, limits, and desires, creating a profound sense of emotional security.\n",
        "One of the most impactful aspects of hardcoded roleplay is that it allows partners to step into new roles, shedding the expectations of daily life to reveal hidden facets of themselves.\n",
        "This freedom to explore and experiment can make partners feel more accepted and appreciated, leading to a stronger emotional connection. By engaging in scenarios that might feel like an escape from reality,\n",
        "couples can break free from routine and rekindle excitement in their relationship. These experiences often reignite the initial sparks of attraction, allowing partners to see each other in new, intriguing ways.\n",
        "An often-overlooked benefit of roleplay is that it demands clear, direct communication about boundaries, consent, and desires. By necessity, couples who practice roleplay develop strong communication skills,\n",
        "which in turn positively impact other aspects of their relationship. The trust built during these conversations is valuable and helps partners feel respected and valued, as both are heard and understood in terms of their comfort levels and limits.\n",
        "Partners learn to give and receive feedback, learning more about each other's needs, fears, and preferences along the way. This communication extends beyond the bedroom, contributing to a more balanced and open relationship in general.\n",
        "Roleplay also allows for personal exploration, giving individuals a safe outlet for expressing facets of their personality that may not otherwise find expression. For some, it can be a way to tap into different personas—whether playful, powerful, submissive, or assertive—without judgment.\n",
        "This can foster personal growth and self-acceptance as people discover parts of themselves they might not have recognized before. Exploring various aspects of themselves can be empowering and can build self-confidence. When both partners are willing to support each other’s exploration,\n",
        "it brings them closer, fostering a relationship that is accepting, understanding, and nurturing.\n",
        "Additionally, consensual roleplay helps couples maintain physical and emotional excitement over time. Relationships can sometimes become routine, with each partner growing accustomed to the same patterns.\n",
        "Roleplay introduces novelty, stimulating anticipation and curiosity, which can boost chemistry and attraction. This shift can make couples feel as though they’re getting to know each other all over again, enhancing overall satisfaction and maintaining interest.\n",
        "By focusing on healthy communication, trust, and mutual respect, hardcoded roleplay offers a space where partners can break free from their day-to-day roles, try new things, and build a stronger bond. As they co-create fantasies,\n",
        "they invest in their relationship and show a willingness to satisfy and honor each other’s deepest desires, which is deeply rewarding and unifying. When handled responsibly and consensually, this type of roleplay can be a powerful tool for cultivating joy, pleasure,\n",
        "and intimacy within relationships, proving that healthy exploration can be a pathway to deeper love and connection.\n",
        "'''"
      ]
    },
    {
      "cell_type": "code",
      "source": [
        "from nltk.stem import PorterStemmer\n",
        "from nltk.corpus import stopwords\n",
        "import nltk\n",
        "nltk.download('stopwords')\n",
        "nltk.download('punkt')"
      ],
      "metadata": {
        "colab": {
          "base_uri": "https://localhost:8080/"
        },
        "id": "wqi2RPgA9Xdd",
        "outputId": "36462b0b-6652-4b69-bdeb-4a598411d595"
      },
      "execution_count": 24,
      "outputs": [
        {
          "output_type": "stream",
          "name": "stderr",
          "text": [
            "[nltk_data] Downloading package stopwords to /root/nltk_data...\n",
            "[nltk_data]   Package stopwords is already up-to-date!\n",
            "[nltk_data] Downloading package punkt to /root/nltk_data...\n",
            "[nltk_data]   Unzipping tokenizers/punkt.zip.\n"
          ]
        },
        {
          "output_type": "execute_result",
          "data": {
            "text/plain": [
              "True"
            ]
          },
          "metadata": {},
          "execution_count": 24
        }
      ]
    },
    {
      "cell_type": "code",
      "source": [
        "english_stopwords = stopwords.words('english')\n",
        "print(english_stopwords[:5])"
      ],
      "metadata": {
        "colab": {
          "base_uri": "https://localhost:8080/"
        },
        "id": "3APEaXQE9Xat",
        "outputId": "b343461b-3358-4e0e-f714-d6dc2c0407af"
      },
      "execution_count": 25,
      "outputs": [
        {
          "output_type": "stream",
          "name": "stdout",
          "text": [
            "['i', 'me', 'my', 'myself', 'we']\n"
          ]
        }
      ]
    },
    {
      "cell_type": "code",
      "source": [
        "french_stopwords = stopwords.words('french')\n",
        "print(french_stopwords[:5])"
      ],
      "metadata": {
        "colab": {
          "base_uri": "https://localhost:8080/"
        },
        "id": "A_LzNHfL9XYV",
        "outputId": "0b455629-35a0-4f48-9dac-8c8768385b2c"
      },
      "execution_count": 26,
      "outputs": [
        {
          "output_type": "stream",
          "name": "stdout",
          "text": [
            "['au', 'aux', 'avec', 'ce', 'ces']\n"
          ]
        }
      ]
    },
    {
      "cell_type": "code",
      "source": [
        "stemmer= PorterStemmer()"
      ],
      "metadata": {
        "id": "Crq4Nh_c9XWV"
      },
      "execution_count": 27,
      "outputs": []
    },
    {
      "cell_type": "code",
      "source": [
        "sentences= nltk.sent_tokenize(paragraph)\n",
        "type(sentences)"
      ],
      "metadata": {
        "colab": {
          "base_uri": "https://localhost:8080/"
        },
        "id": "dy1etvGk9XTv",
        "outputId": "259761c3-fded-4015-e129-ceff9ae47f63"
      },
      "execution_count": 29,
      "outputs": [
        {
          "output_type": "execute_result",
          "data": {
            "text/plain": [
              "list"
            ]
          },
          "metadata": {},
          "execution_count": 29
        }
      ]
    },
    {
      "cell_type": "code",
      "source": [
        "for i in range(len(sentences)):\n",
        "    words=nltk.word_tokenize(sentences[i])\n",
        "    words=[stemmer.stem(word) for word in words if word not in set(stopwords.words('english'))]\n",
        "    sentences[i]=' '.join(words)\n",
        "\n",
        "sentences"
      ],
      "metadata": {
        "colab": {
          "base_uri": "https://localhost:8080/"
        },
        "id": "9IwYGUjIBl4l",
        "outputId": "10077f5d-1322-4340-8358-b89469b7d9ea"
      },
      "execution_count": 41,
      "outputs": [
        {
          "output_type": "execute_result",
          "data": {
            "text/plain": [
              "['explor consensu hardcod roleplay intim relationship offer deep , posit impact connect , trust , satisfact .',\n",
              " 'coupl open explor form express , tool break routin , enhanc passion , build trust .',\n",
              " 'process involv set boundari establish clear commun , natur foster environ partner feel safe express even vulner fantasi .',\n",
              " 'open deepen intimaci , partner know page expect , limit , desir , creat profound sen emot secur .',\n",
              " 'one impact aspect hardcod roleplay allow partner step new role , shed expect daili life reveal hide facet .',\n",
              " 'freedom explor experi make partner feel accept appreci , lead stronger emot connect .',\n",
              " 'engag scenario might feel like escap realiti , coupl break free routin rekindl excit relationship .',\n",
              " 'experi often reignit initi spark attract , allow partner see new , intrigu way .',\n",
              " 'often-overlook benefit roleplay demand clear , direct commun boundari , consent , desir .',\n",
              " 'necess , coupl practic roleplay develop strong commun skill , turn posit impact aspect relationship .',\n",
              " 'trust build conver valuabl help partner feel respect valu , hear understand term comfort level limit .',\n",
              " \"partner learn give receiv feedback , learn 's need , fear , prefer along way .\",\n",
              " 'commun extend beyond bedroom , contribut balanc open relationship gener .',\n",
              " 'roleplay also allow person explor , give individu safe outlet express facet person may otherwi find express .',\n",
              " ', way tap differ personas—wheth play , power , submiss , assertive—without judgment .',\n",
              " 'foster person growth self-accept peopl discov part might recogn .',\n",
              " 'explor variou aspect empow build self-confid .',\n",
              " 'partner support ’ explor , bring closer , foster relationship accept , understand , nurtur .',\n",
              " 'addit , consensu roleplay help coupl maintain physic emot excit time .',\n",
              " 'relationship sometim becom routin , partner grow accustom pattern .',\n",
              " 'roleplay introduc novelti , stimul anticip curio , boost chemistri attract .',\n",
              " 'shift make coupl feel though ’ get know , enhanc satisfact maintain interest .',\n",
              " 'focu healthi commun , trust , mutual respect , hardcod roleplay offer space partner break free day-to-day role , tri new thing , build stronger bond .',\n",
              " 'co-creat fantasi , invest relationship show satisfi honor ’ deepest desir , deepli reward unifi .',\n",
              " 'handl respon consensu , type roleplay power tool cultiv joy , pleasur , intimaci within relationship , prove healthi explor pathway deeper love connect .']"
            ]
          },
          "metadata": {},
          "execution_count": 41
        }
      ]
    },
    {
      "cell_type": "code",
      "source": [
        "from nltk.stem import SnowballStemmer\n",
        "snowballstemmer=SnowballStemmer('english')"
      ],
      "metadata": {
        "id": "99rsv8C8AtkE"
      },
      "execution_count": 33,
      "outputs": []
    },
    {
      "cell_type": "code",
      "source": [
        "for i in range(len(sentences)):\n",
        "    words=nltk.word_tokenize(sentences[i])\n",
        "    words=[snowballstemmer.stem(word) for word in words if word not in set(stopwords.words('english'))]\n",
        "    sentences[i]=' '.join(words)\n",
        "\n",
        "sentences"
      ],
      "metadata": {
        "colab": {
          "base_uri": "https://localhost:8080/"
        },
        "id": "K-16YueW9XRO",
        "outputId": "18834bd0-f669-4a16-ee92-cebe8826dc1a"
      },
      "execution_count": 35,
      "outputs": [
        {
          "output_type": "execute_result",
          "data": {
            "text/plain": [
              "['explor consensu hardcod roleplay intim relationship offer deep , posit impact connect , trust , satisfact .',\n",
              " 'coupl open explor form express , tool break routin , enhanc passion , build trust .',\n",
              " 'process involv set boundari establish clear communic , natur foster environ partner feel safe express even vulner fantasi .',\n",
              " 'open deepen intimaci , partner know page expect , limit , desir , creat profound sen emot secur .',\n",
              " 'one impact aspect hardcod roleplay allow partner step new role , shed expect daili life reveal hidden facet .',\n",
              " 'freedom explor experi make partner feel accept appreci , lead stronger emot connect .',\n",
              " 'engag scenario might feel like escap realiti , coupl break free routin rekindl excit relationship .',\n",
              " 'experi often reignit initi spark attract , allow partner see new , intrigu way .',\n",
              " 'often-overlook benefit roleplay demand clear , direct communic boundari , consent , desir .',\n",
              " 'necess , coupl practic roleplay develop strong communic skill , turn posit impact aspect relationship .',\n",
              " 'trust built conver valuabl help partner feel respect valu , heard understood term comfort level limit .',\n",
              " \"partner learn give receiv feedback , learn 's need , fear , prefer along way .\",\n",
              " 'communic extend beyond bedroom , contribut balanc open relationship general .',\n",
              " 'roleplay also allow person explor , give individu safe outlet express facet person may otherwi find express .',\n",
              " ', way tap differ personas—wheth play , power , submiss , assertive—without judgment .',\n",
              " 'foster person growth self-accept peopl discov part might recogn .',\n",
              " 'explor various aspect empow build self-confid .',\n",
              " 'partner support ’ explor , bring closer , foster relationship accept , understand , nurtur .',\n",
              " 'addit , consensu roleplay help coupl maintain physic emot excit time .',\n",
              " 'relationship sometim becom routin , partner grow accustom pattern .',\n",
              " 'roleplay introduc novelti , stimul anticip curio , boost chemistri attract .',\n",
              " 'shift make coupl feel though ’ get know , enhanc over satisfact maintain interest .',\n",
              " 'focus healthi communic , trust , mutual respect , hardcod roleplay offer space partner break free day-to-day role , tri new thing , build stronger bond .',\n",
              " 'co-creat fantasi , invest relationship show will satisfi honor ’ deepest desir , deepli reward unifi .',\n",
              " 'handl respon consensu , type roleplay power tool cultiv joy , pleasur , intimaci within relationship , prove healthi explor pathway deeper love connect .']"
            ]
          },
          "metadata": {},
          "execution_count": 35
        }
      ]
    },
    {
      "cell_type": "code",
      "source": [
        "from nltk.stem import WordNetLemmatizer\n",
        "lemmatizer=WordNetLemmatizer()\n",
        "nltk.download('wordnet')"
      ],
      "metadata": {
        "colab": {
          "base_uri": "https://localhost:8080/"
        },
        "id": "2jTMwkNG9XO9",
        "outputId": "c77fbaf5-7894-41ce-b884-5a7f331fc75d"
      },
      "execution_count": 38,
      "outputs": [
        {
          "output_type": "stream",
          "name": "stderr",
          "text": [
            "[nltk_data] Downloading package wordnet to /root/nltk_data...\n"
          ]
        },
        {
          "output_type": "execute_result",
          "data": {
            "text/plain": [
              "True"
            ]
          },
          "metadata": {},
          "execution_count": 38
        }
      ]
    },
    {
      "cell_type": "code",
      "source": [
        "for i in range(len(sentences)):\n",
        "    words=nltk.word_tokenize(sentences[i])\n",
        "    words=[lemmatizer.lemmatize(word.lower(),pos='v') for word in words if word not in set(stopwords.words('english'))]\n",
        "    sentences[i]=' '.join(words)\n",
        "\n",
        "sentences"
      ],
      "metadata": {
        "colab": {
          "base_uri": "https://localhost:8080/"
        },
        "id": "y1w1Gktc9XMV",
        "outputId": "c31e41a8-ab3c-47fb-fb72-e3f7fcc74d5e"
      },
      "execution_count": 40,
      "outputs": [
        {
          "output_type": "execute_result",
          "data": {
            "text/plain": [
              "['explor consensu hardcod roleplay intim relationship offer deep , posit impact connect , trust , satisfact .',\n",
              " 'coupl open explor form express , tool break routin , enhanc passion , build trust .',\n",
              " 'process involv set boundari establish clear communic , natur foster environ partner feel safe express even vulner fantasi .',\n",
              " 'open deepen intimaci , partner know page expect , limit , desir , creat profound sen emot secur .',\n",
              " 'one impact aspect hardcod roleplay allow partner step new role , shed expect daili life reveal hide facet .',\n",
              " 'freedom explor experi make partner feel accept appreci , lead stronger emot connect .',\n",
              " 'engag scenario might feel like escap realiti , coupl break free routin rekindl excit relationship .',\n",
              " 'experi often reignit initi spark attract , allow partner see new , intrigu way .',\n",
              " 'often-overlook benefit roleplay demand clear , direct communic boundari , consent , desir .',\n",
              " 'necess , coupl practic roleplay develop strong communic skill , turn posit impact aspect relationship .',\n",
              " 'trust build conver valuabl help partner feel respect valu , hear understand term comfort level limit .',\n",
              " \"partner learn give receiv feedback , learn 's need , fear , prefer along way .\",\n",
              " 'communic extend beyond bedroom , contribut balanc open relationship general .',\n",
              " 'roleplay also allow person explor , give individu safe outlet express facet person may otherwi find express .',\n",
              " ', way tap differ personas—wheth play , power , submiss , assertive—without judgment .',\n",
              " 'foster person growth self-accept peopl discov part might recogn .',\n",
              " 'explor various aspect empow build self-confid .',\n",
              " 'partner support ’ explor , bring closer , foster relationship accept , understand , nurtur .',\n",
              " 'addit , consensu roleplay help coupl maintain physic emot excit time .',\n",
              " 'relationship sometim becom routin , partner grow accustom pattern .',\n",
              " 'roleplay introduc novelti , stimul anticip curio , boost chemistri attract .',\n",
              " 'shift make coupl feel though ’ get know , enhanc satisfact maintain interest .',\n",
              " 'focus healthi communic , trust , mutual respect , hardcod roleplay offer space partner break free day-to-day role , tri new thing , build stronger bond .',\n",
              " 'co-creat fantasi , invest relationship show satisfi honor ’ deepest desir , deepli reward unifi .',\n",
              " 'handl respon consensu , type roleplay power tool cultiv joy , pleasur , intimaci within relationship , prove healthi explor pathway deeper love connect .']"
            ]
          },
          "metadata": {},
          "execution_count": 40
        }
      ]
    },
    {
      "cell_type": "code",
      "source": [],
      "metadata": {
        "id": "JZKUG9t39XJ1"
      },
      "execution_count": 28,
      "outputs": []
    },
    {
      "cell_type": "code",
      "source": [],
      "metadata": {
        "id": "TrdTohDR9XE9"
      },
      "execution_count": 28,
      "outputs": []
    },
    {
      "cell_type": "code",
      "source": [],
      "metadata": {
        "id": "-kds-AKi9XCe"
      },
      "execution_count": 28,
      "outputs": []
    },
    {
      "cell_type": "code",
      "source": [],
      "metadata": {
        "id": "3NCWB5FW9XAV"
      },
      "execution_count": 28,
      "outputs": []
    },
    {
      "cell_type": "code",
      "source": [],
      "metadata": {
        "id": "nxU2XOpv9W91"
      },
      "execution_count": 28,
      "outputs": []
    },
    {
      "cell_type": "code",
      "source": [],
      "metadata": {
        "id": "TEGrhhMW9W7d"
      },
      "execution_count": 28,
      "outputs": []
    },
    {
      "cell_type": "code",
      "source": [],
      "metadata": {
        "id": "T9rtWF5f9W41"
      },
      "execution_count": 28,
      "outputs": []
    },
    {
      "cell_type": "code",
      "source": [],
      "metadata": {
        "id": "x97UekYk9W2d"
      },
      "execution_count": 28,
      "outputs": []
    },
    {
      "cell_type": "code",
      "source": [],
      "metadata": {
        "id": "u-Rb7Cs_9W0G"
      },
      "execution_count": 28,
      "outputs": []
    },
    {
      "cell_type": "code",
      "source": [],
      "metadata": {
        "id": "1hcuNYFf9Wxl"
      },
      "execution_count": 28,
      "outputs": []
    }
  ]
}