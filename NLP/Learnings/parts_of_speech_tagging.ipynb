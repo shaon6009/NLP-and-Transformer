{
  "nbformat": 4,
  "nbformat_minor": 0,
  "metadata": {
    "colab": {
      "provenance": []
    },
    "kernelspec": {
      "name": "python3",
      "display_name": "Python 3"
    },
    "language_info": {
      "name": "python"
    }
  },
  "cells": [
    {
      "cell_type": "markdown",
      "source": [
        "#Noun (NN):\n",
        "Singular Noun: NN\n",
        "\n",
        "Plural Noun: NNS\n",
        "\n",
        "Proper Noun (Singular): NNP\n",
        "\n",
        "Proper Noun (Plural): NNPS\n",
        "\n",
        "#Verb (VB):\n",
        "Past Tense: VBD\n",
        "\n",
        "Gerund/Present Participle: VBG\n",
        "\n",
        "Present Tense, Singular: VBP\n",
        "\n",
        "Present Tense, 3rd Person Singular: VBZ\n",
        "\n",
        "\n",
        "#Adjective (JJ):\n",
        "Comparative Adjective: JJR\n",
        "\n",
        "Superlative Adjective: JJS\n",
        "\n",
        "Example: happy, happier, happiest\n",
        "\n",
        "#Adverb: RB\n",
        "Comparative Adverb: RBR\n",
        "\n",
        "Superlative Adverb: RBS\n",
        "\n",
        "Pronoun (PRP):\n",
        "\n",
        "#Pronoun: PRP\n",
        "Possessive Pronoun: PRP$\n",
        "\n",
        "Example: he, she, it, they, his, her\n",
        "\n",
        "Preposition (IN):\n",
        "\n",
        "#Conjunction (CC):\n",
        "\n",
        "Coordinating Conjunction: CC\n",
        "\n",
        "#Determiner (DT):\n",
        "#Interjection (UH):\n",
        "#Article (AT): (often considered a subset of determiners)\n",
        "\n",
        "Definite Article: the\n",
        "\n",
        "Indefinite Articles: a, an\n",
        "\n",
        "#Cardinal Number (CD):\n",
        "\n",
        "#Ordinal Number (OD):"
      ],
      "metadata": {
        "id": "SxgPxCF_OSgN"
      }
    },
    {
      "cell_type": "code",
      "execution_count": 2,
      "metadata": {
        "id": "YRRvQ2DNOMDG"
      },
      "outputs": [],
      "source": [
        "paragraph= '''\n",
        "Exploring consensual hardcode roleplay in intimate relationships can offer deep, positive impacts on connection, trust, and satisfaction. For couples open to exploring this form of expression,\n",
        "it can be a tool for breaking routine, enhancing passion, and building trust. The process involves setting boundaries and establishing clear communication, which naturally fosters an environment where partners feel safe to express even their most vulnerable fantasies.\n",
        "This openness can deepen intimacy, as both partners know they are on the same page about expectations, limits, and desires, creating a profound sense of emotional security.\n",
        "One of the most impactful aspects of hardcoded roleplay is that it allows partners to step into new roles, shedding the expectations of daily life to reveal hidden facets of themselves.\n",
        "This freedom to explore and experiment can make partners feel more accepted and appreciated, leading to a stronger emotional connection. By engaging in scenarios that might feel like an escape from reality,\n",
        "couples can break free from routine and rekindle excitement in their relationship. These experiences often reignite the initial sparks of attraction, allowing partners to see each other in new, intriguing ways.\n",
        "An often-overlooked benefit of roleplay is that it demands clear, direct communication about boundaries, consent, and desires. By necessity, couples who practice roleplay develop strong communication skills,\n",
        "which in turn positively impact other aspects of their relationship. The trust built during these conversations is valuable and helps partners feel respected and valued, as both are heard and understood in terms of their comfort levels and limits.\n",
        "Partners learn to give and receive feedback, learning more about each other's needs, fears, and preferences along the way. This communication extends beyond the bedroom, contributing to a more balanced and open relationship in general.\n",
        "Roleplay also allows for personal exploration, giving individuals a safe outlet for expressing facets of their personality that may not otherwise find expression. For some, it can be a way to tap into different personas—whether playful, powerful, submissive, or assertive—without judgment.\n",
        "This can foster personal growth and self-acceptance as people discover parts of themselves they might not have recognized before. Exploring various aspects of themselves can be empowering and can build self-confidence. When both partners are willing to support each other’s exploration,\n",
        "it brings them closer, fostering a relationship that is accepting, understanding, and nurturing.\n",
        "Additionally, consensual roleplay helps couples maintain physical and emotional excitement over time. Relationships can sometimes become routine, with each partner growing accustomed to the same patterns.\n",
        "Roleplay introduces novelty, stimulating anticipation and curiosity, which can boost chemistry and attraction. This shift can make couples feel as though they’re getting to know each other all over again, enhancing overall satisfaction and maintaining interest.\n",
        "By focusing on healthy communication, trust, and mutual respect, hardcoded roleplay offers a space where partners can break free from their day-to-day roles, try new things, and build a stronger bond. As they co-create fantasies,\n",
        "they invest in their relationship and show a willingness to satisfy and honor each other’s deepest desires, which is deeply rewarding and unifying. When handled responsibly and consensually, this type of roleplay can be a powerful tool for cultivating joy, pleasure,\n",
        "and intimacy within relationships, proving that healthy exploration can be a pathway to deeper love and connection.\n",
        "'''"
      ]
    },
    {
      "cell_type": "code",
      "source": [
        "import nltk\n",
        "nltk.download('stopwords')\n",
        "nltk.download('punkt')\n",
        "from nltk.corpus import stopwords\n",
        "sentences=nltk.sent_tokenize(paragraph)"
      ],
      "metadata": {
        "colab": {
          "base_uri": "https://localhost:8080/"
        },
        "id": "8YN1QwJzPzI8",
        "outputId": "1a0e5f39-9f5f-4c55-8d61-75c20575949e"
      },
      "execution_count": 5,
      "outputs": [
        {
          "output_type": "stream",
          "name": "stderr",
          "text": [
            "[nltk_data] Downloading package stopwords to /root/nltk_data...\n",
            "[nltk_data]   Unzipping corpora/stopwords.zip.\n",
            "[nltk_data] Downloading package punkt to /root/nltk_data...\n",
            "[nltk_data]   Unzipping tokenizers/punkt.zip.\n"
          ]
        }
      ]
    },
    {
      "cell_type": "code",
      "source": [
        "sentences"
      ],
      "metadata": {
        "colab": {
          "base_uri": "https://localhost:8080/"
        },
        "id": "jtRVyxF2PzEU",
        "outputId": "0db8c1cd-a6a8-43f9-be7a-50dc066044a9"
      },
      "execution_count": 6,
      "outputs": [
        {
          "output_type": "execute_result",
          "data": {
            "text/plain": [
              "['\\nExploring consensual hardcode roleplay in intimate relationships can offer deep, positive impacts on connection, trust, and satisfaction.',\n",
              " 'For couples open to exploring this form of expression, \\nit can be a tool for breaking routine, enhancing passion, and building trust.',\n",
              " 'The process involves setting boundaries and establishing clear communication, which naturally fosters an environment where partners feel safe to express even their most vulnerable fantasies.',\n",
              " 'This openness can deepen intimacy, as both partners know they are on the same page about expectations, limits, and desires, creating a profound sense of emotional security.',\n",
              " 'One of the most impactful aspects of hardcoded roleplay is that it allows partners to step into new roles, shedding the expectations of daily life to reveal hidden facets of themselves.',\n",
              " 'This freedom to explore and experiment can make partners feel more accepted and appreciated, leading to a stronger emotional connection.',\n",
              " 'By engaging in scenarios that might feel like an escape from reality, \\ncouples can break free from routine and rekindle excitement in their relationship.',\n",
              " 'These experiences often reignite the initial sparks of attraction, allowing partners to see each other in new, intriguing ways.',\n",
              " 'An often-overlooked benefit of roleplay is that it demands clear, direct communication about boundaries, consent, and desires.',\n",
              " 'By necessity, couples who practice roleplay develop strong communication skills, \\nwhich in turn positively impact other aspects of their relationship.',\n",
              " 'The trust built during these conversations is valuable and helps partners feel respected and valued, as both are heard and understood in terms of their comfort levels and limits.',\n",
              " \"Partners learn to give and receive feedback, learning more about each other's needs, fears, and preferences along the way.\",\n",
              " 'This communication extends beyond the bedroom, contributing to a more balanced and open relationship in general.',\n",
              " 'Roleplay also allows for personal exploration, giving individuals a safe outlet for expressing facets of their personality that may not otherwise find expression.',\n",
              " 'For some, it can be a way to tap into different personas—whether playful, powerful, submissive, or assertive—without judgment.',\n",
              " 'This can foster personal growth and self-acceptance as people discover parts of themselves they might not have recognized before.',\n",
              " 'Exploring various aspects of themselves can be empowering and can build self-confidence.',\n",
              " 'When both partners are willing to support each other’s exploration, \\nit brings them closer, fostering a relationship that is accepting, understanding, and nurturing.',\n",
              " 'Additionally, consensual roleplay helps couples maintain physical and emotional excitement over time.',\n",
              " 'Relationships can sometimes become routine, with each partner growing accustomed to the same patterns.',\n",
              " 'Roleplay introduces novelty, stimulating anticipation and curiosity, which can boost chemistry and attraction.',\n",
              " 'This shift can make couples feel as though they’re getting to know each other all over again, enhancing overall satisfaction and maintaining interest.',\n",
              " 'By focusing on healthy communication, trust, and mutual respect, hardcoded roleplay offers a space where partners can break free from their day-to-day roles, try new things, and build a stronger bond.',\n",
              " 'As they co-create fantasies, \\nthey invest in their relationship and show a willingness to satisfy and honor each other’s deepest desires, which is deeply rewarding and unifying.',\n",
              " 'When handled responsibly and consensually, this type of roleplay can be a powerful tool for cultivating joy, pleasure, \\nand intimacy within relationships, proving that healthy exploration can be a pathway to deeper love and connection.']"
            ]
          },
          "metadata": {},
          "execution_count": 6
        }
      ]
    },
    {
      "cell_type": "code",
      "source": [
        "nltk.download('averaged_perceptron_tagger')"
      ],
      "metadata": {
        "colab": {
          "base_uri": "https://localhost:8080/"
        },
        "id": "z9mIiJZDPzCM",
        "outputId": "28e48d14-0767-46d6-ccd9-53ef9dbc5341"
      },
      "execution_count": 7,
      "outputs": [
        {
          "output_type": "stream",
          "name": "stderr",
          "text": [
            "[nltk_data] Downloading package averaged_perceptron_tagger to\n",
            "[nltk_data]     /root/nltk_data...\n",
            "[nltk_data]   Unzipping taggers/averaged_perceptron_tagger.zip.\n"
          ]
        },
        {
          "output_type": "execute_result",
          "data": {
            "text/plain": [
              "True"
            ]
          },
          "metadata": {},
          "execution_count": 7
        }
      ]
    },
    {
      "cell_type": "code",
      "source": [
        "for i in range(len(sentences)):\n",
        "    words=nltk.word_tokenize(sentences[i])\n",
        "    words=[word for word in words if word not in set(stopwords.words('english'))]\n",
        "    #sentences[i]=' '.join(words)# converting all the list of words into sentences\n",
        "    pos_tag=nltk.pos_tag(words)\n",
        "    print(pos_tag)"
      ],
      "metadata": {
        "colab": {
          "base_uri": "https://localhost:8080/"
        },
        "id": "TcU3EGvpPy_-",
        "outputId": "35ec9eb2-acf2-4d57-b56d-d0e8304fea89"
      },
      "execution_count": 8,
      "outputs": [
        {
          "output_type": "stream",
          "name": "stdout",
          "text": [
            "[('Exploring', 'VBG'), ('consensual', 'JJ'), ('hardcode', 'NN'), ('roleplay', 'NN'), ('intimate', 'JJ'), ('relationships', 'NNS'), ('offer', 'VBP'), ('deep', 'JJ'), (',', ','), ('positive', 'JJ'), ('impacts', 'NNS'), ('connection', 'NN'), (',', ','), ('trust', 'NN'), (',', ','), ('satisfaction', 'NN'), ('.', '.')]\n",
            "[('For', 'IN'), ('couples', 'NNS'), ('open', 'JJ'), ('exploring', 'VBG'), ('form', 'NN'), ('expression', 'NN'), (',', ','), ('tool', 'NN'), ('breaking', 'VBG'), ('routine', 'JJ'), (',', ','), ('enhancing', 'VBG'), ('passion', 'NN'), (',', ','), ('building', 'VBG'), ('trust', 'NN'), ('.', '.')]\n",
            "[('The', 'DT'), ('process', 'NN'), ('involves', 'VBZ'), ('setting', 'VBG'), ('boundaries', 'NNS'), ('establishing', 'VBG'), ('clear', 'JJ'), ('communication', 'NN'), (',', ','), ('naturally', 'RB'), ('fosters', 'NNS'), ('environment', 'NN'), ('partners', 'NNS'), ('feel', 'VBP'), ('safe', 'JJ'), ('express', 'NN'), ('even', 'RB'), ('vulnerable', 'JJ'), ('fantasies', 'NNS'), ('.', '.')]\n",
            "[('This', 'DT'), ('openness', 'NN'), ('deepen', 'JJ'), ('intimacy', 'NN'), (',', ','), ('partners', 'NNS'), ('know', 'VBP'), ('page', 'NN'), ('expectations', 'NNS'), (',', ','), ('limits', 'NNS'), (',', ','), ('desires', 'NNS'), (',', ','), ('creating', 'VBG'), ('profound', 'JJ'), ('sense', 'NN'), ('emotional', 'JJ'), ('security', 'NN'), ('.', '.')]\n",
            "[('One', 'CD'), ('impactful', 'JJ'), ('aspects', 'NNS'), ('hardcoded', 'VBD'), ('roleplay', 'NN'), ('allows', 'VBZ'), ('partners', 'NNS'), ('step', 'VB'), ('new', 'JJ'), ('roles', 'NNS'), (',', ','), ('shedding', 'VBG'), ('expectations', 'NNS'), ('daily', 'JJ'), ('life', 'NN'), ('reveal', 'NN'), ('hidden', 'JJ'), ('facets', 'NNS'), ('.', '.')]\n",
            "[('This', 'DT'), ('freedom', 'NN'), ('explore', 'RBR'), ('experiment', 'JJ'), ('make', 'NN'), ('partners', 'NNS'), ('feel', 'VBP'), ('accepted', 'VBN'), ('appreciated', 'JJ'), (',', ','), ('leading', 'JJ'), ('stronger', 'JJR'), ('emotional', 'JJ'), ('connection', 'NN'), ('.', '.')]\n",
            "[('By', 'IN'), ('engaging', 'VBG'), ('scenarios', 'NNS'), ('might', 'MD'), ('feel', 'VB'), ('like', 'IN'), ('escape', 'NN'), ('reality', 'NN'), (',', ','), ('couples', 'NNS'), ('break', 'VBP'), ('free', 'JJ'), ('routine', 'JJ'), ('rekindle', 'NN'), ('excitement', 'NN'), ('relationship', 'NN'), ('.', '.')]\n",
            "[('These', 'DT'), ('experiences', 'NNS'), ('often', 'RB'), ('reignite', 'VBP'), ('initial', 'JJ'), ('sparks', 'NNS'), ('attraction', 'NN'), (',', ','), ('allowing', 'VBG'), ('partners', 'NNS'), ('see', 'VBP'), ('new', 'JJ'), (',', ','), ('intriguing', 'JJ'), ('ways', 'NNS'), ('.', '.')]\n",
            "[('An', 'DT'), ('often-overlooked', 'JJ'), ('benefit', 'NN'), ('roleplay', 'NN'), ('demands', 'VBZ'), ('clear', 'JJ'), (',', ','), ('direct', 'JJ'), ('communication', 'NN'), ('boundaries', 'NNS'), (',', ','), ('consent', 'NN'), (',', ','), ('desires', 'NNS'), ('.', '.')]\n",
            "[('By', 'IN'), ('necessity', 'NN'), (',', ','), ('couples', 'NNS'), ('practice', 'NN'), ('roleplay', 'NN'), ('develop', 'VB'), ('strong', 'JJ'), ('communication', 'NN'), ('skills', 'NNS'), (',', ','), ('turn', 'VBP'), ('positively', 'JJ'), ('impact', 'JJ'), ('aspects', 'NNS'), ('relationship', 'NN'), ('.', '.')]\n",
            "[('The', 'DT'), ('trust', 'NN'), ('built', 'VBN'), ('conversations', 'NNS'), ('valuable', 'JJ'), ('helps', 'VBZ'), ('partners', 'NNS'), ('feel', 'VB'), ('respected', 'VBN'), ('valued', 'VBN'), (',', ','), ('heard', 'RB'), ('understood', 'NN'), ('terms', 'NNS'), ('comfort', 'NN'), ('levels', 'NNS'), ('limits', 'NNS'), ('.', '.')]\n",
            "[('Partners', 'NNS'), ('learn', 'VBP'), ('give', 'JJ'), ('receive', 'NN'), ('feedback', 'NN'), (',', ','), ('learning', 'VBG'), (\"'s\", 'POS'), ('needs', 'NNS'), (',', ','), ('fears', 'NNS'), (',', ','), ('preferences', 'NNS'), ('along', 'RP'), ('way', 'NN'), ('.', '.')]\n",
            "[('This', 'DT'), ('communication', 'NN'), ('extends', 'VBZ'), ('beyond', 'IN'), ('bedroom', 'NN'), (',', ','), ('contributing', 'VBG'), ('balanced', 'VBN'), ('open', 'JJ'), ('relationship', 'NN'), ('general', 'NN'), ('.', '.')]\n",
            "[('Roleplay', 'NNP'), ('also', 'RB'), ('allows', 'VBZ'), ('personal', 'JJ'), ('exploration', 'NN'), (',', ','), ('giving', 'VBG'), ('individuals', 'NNS'), ('safe', 'JJ'), ('outlet', 'NN'), ('expressing', 'VBG'), ('facets', 'NNS'), ('personality', 'NN'), ('may', 'MD'), ('otherwise', 'VB'), ('find', 'VB'), ('expression', 'NN'), ('.', '.')]\n",
            "[('For', 'IN'), (',', ','), ('way', 'NN'), ('tap', 'JJ'), ('different', 'JJ'), ('personas—whether', 'NN'), ('playful', 'NN'), (',', ','), ('powerful', 'JJ'), (',', ','), ('submissive', 'JJ'), (',', ','), ('assertive—without', 'JJ'), ('judgment', 'NN'), ('.', '.')]\n",
            "[('This', 'DT'), ('foster', 'JJ'), ('personal', 'JJ'), ('growth', 'NN'), ('self-acceptance', 'NN'), ('people', 'NNS'), ('discover', 'RP'), ('parts', 'NNS'), ('might', 'MD'), ('recognized', 'VBN'), ('.', '.')]\n",
            "[('Exploring', 'VBG'), ('various', 'JJ'), ('aspects', 'NNS'), ('empowering', 'VBG'), ('build', 'JJ'), ('self-confidence', 'NN'), ('.', '.')]\n",
            "[('When', 'WRB'), ('partners', 'NNS'), ('willing', 'JJ'), ('support', 'NN'), ('’', 'NN'), ('exploration', 'NN'), (',', ','), ('brings', 'VBZ'), ('closer', 'JJR'), (',', ','), ('fostering', 'VBG'), ('relationship', 'NN'), ('accepting', 'NN'), (',', ','), ('understanding', 'NN'), (',', ','), ('nurturing', 'VBG'), ('.', '.')]\n",
            "[('Additionally', 'RB'), (',', ','), ('consensual', 'JJ'), ('roleplay', 'NN'), ('helps', 'VBZ'), ('couples', 'NNS'), ('maintain', 'VBP'), ('physical', 'JJ'), ('emotional', 'JJ'), ('excitement', 'NN'), ('time', 'NN'), ('.', '.')]\n",
            "[('Relationships', 'NNP'), ('sometimes', 'RB'), ('become', 'VB'), ('routine', 'JJ'), (',', ','), ('partner', 'NN'), ('growing', 'VBG'), ('accustomed', 'JJ'), ('patterns', 'NNS'), ('.', '.')]\n",
            "[('Roleplay', 'NNP'), ('introduces', 'VBZ'), ('novelty', 'NN'), (',', ','), ('stimulating', 'VBG'), ('anticipation', 'NN'), ('curiosity', 'NN'), (',', ','), ('boost', 'VB'), ('chemistry', 'NN'), ('attraction', 'NN'), ('.', '.')]\n",
            "[('This', 'DT'), ('shift', 'NN'), ('make', 'VBP'), ('couples', 'NNS'), ('feel', 'VB'), ('though', 'IN'), ('’', 'JJ'), ('getting', 'VBG'), ('know', 'NN'), (',', ','), ('enhancing', 'VBG'), ('overall', 'JJ'), ('satisfaction', 'NN'), ('maintaining', 'VBG'), ('interest', 'NN'), ('.', '.')]\n",
            "[('By', 'IN'), ('focusing', 'VBG'), ('healthy', 'JJ'), ('communication', 'NN'), (',', ','), ('trust', 'NN'), (',', ','), ('mutual', 'JJ'), ('respect', 'NN'), (',', ','), ('hardcoded', 'VBD'), ('roleplay', 'NN'), ('offers', 'NNS'), ('space', 'NN'), ('partners', 'NNS'), ('break', 'VBP'), ('free', 'JJ'), ('day-to-day', 'JJ'), ('roles', 'NNS'), (',', ','), ('try', 'VB'), ('new', 'JJ'), ('things', 'NNS'), (',', ','), ('build', 'VB'), ('stronger', 'JJR'), ('bond', 'NN'), ('.', '.')]\n",
            "[('As', 'IN'), ('co-create', 'JJ'), ('fantasies', 'NNS'), (',', ','), ('invest', 'JJS'), ('relationship', 'NN'), ('show', 'NN'), ('willingness', 'NN'), ('satisfy', 'NN'), ('honor', 'NN'), ('’', 'NNP'), ('deepest', 'NN'), ('desires', 'NNS'), (',', ','), ('deeply', 'RB'), ('rewarding', 'VBG'), ('unifying', 'VBG'), ('.', '.')]\n",
            "[('When', 'WRB'), ('handled', 'VBN'), ('responsibly', 'RB'), ('consensually', 'RB'), (',', ','), ('type', 'JJ'), ('roleplay', 'NN'), ('powerful', 'JJ'), ('tool', 'NN'), ('cultivating', 'VBG'), ('joy', 'NN'), (',', ','), ('pleasure', 'NN'), (',', ','), ('intimacy', 'NN'), ('within', 'IN'), ('relationships', 'NNS'), (',', ','), ('proving', 'VBG'), ('healthy', 'JJ'), ('exploration', 'NN'), ('pathway', 'RB'), ('deeper', 'JJ'), ('love', 'NN'), ('connection', 'NN'), ('.', '.')]\n"
          ]
        }
      ]
    },
    {
      "cell_type": "code",
      "source": [
        "\"Taj Mahal is a beautiful Monument\".split()\n",
        "print(nltk.pos_tag(\"Taj Mahal is a beautiful Monument\".split()))"
      ],
      "metadata": {
        "colab": {
          "base_uri": "https://localhost:8080/"
        },
        "id": "3N1rokk-Py9s",
        "outputId": "c9d0b152-638f-459d-cb10-5e39d2d8774f"
      },
      "execution_count": 9,
      "outputs": [
        {
          "output_type": "stream",
          "name": "stdout",
          "text": [
            "[('Taj', 'NNP'), ('Mahal', 'NNP'), ('is', 'VBZ'), ('a', 'DT'), ('beautiful', 'JJ'), ('Monument', 'NN')]\n"
          ]
        }
      ]
    },
    {
      "cell_type": "code",
      "source": [],
      "metadata": {
        "id": "o9D0rm70Py71"
      },
      "execution_count": null,
      "outputs": []
    },
    {
      "cell_type": "code",
      "source": [],
      "metadata": {
        "id": "qgU7jn6JPy5O"
      },
      "execution_count": null,
      "outputs": []
    },
    {
      "cell_type": "code",
      "source": [],
      "metadata": {
        "id": "__AXFF3MPy3M"
      },
      "execution_count": null,
      "outputs": []
    },
    {
      "cell_type": "code",
      "source": [],
      "metadata": {
        "id": "6cJ_sj4FPy0s"
      },
      "execution_count": null,
      "outputs": []
    },
    {
      "cell_type": "code",
      "source": [],
      "metadata": {
        "id": "qeOukYSZPyx9"
      },
      "execution_count": null,
      "outputs": []
    }
  ]
}